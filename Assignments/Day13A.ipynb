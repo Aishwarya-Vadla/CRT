{
  "nbformat": 4,
  "nbformat_minor": 0,
  "metadata": {
    "colab": {
      "provenance": []
    },
    "kernelspec": {
      "name": "python3",
      "display_name": "Python 3"
    },
    "language_info": {
      "name": "python"
    }
  },
  "cells": [
    {
      "cell_type": "code",
      "execution_count": 1,
      "metadata": {
        "colab": {
          "base_uri": "https://localhost:8080/"
        },
        "id": "DJO8qgCv3Xb2",
        "outputId": "b2e82736-5d67-4c73-82d2-01df34183ec1"
      },
      "outputs": [
        {
          "output_type": "stream",
          "name": "stdout",
          "text": [
            "Token          POS       Tag       \n",
            "-----------------------------------\n",
            "NLP            PROPN     NNP       \n",
            "is             AUX       VBZ       \n",
            "amazing        ADJ       JJ        \n",
            "and            CCONJ     CC        \n",
            "fun            ADJ       JJ        \n",
            "to             PART      TO        \n",
            "learn          VERB      VB        \n",
            ".              PUNCT     .         \n"
          ]
        }
      ],
      "source": [
        "import spacy\n",
        "\n",
        "def pos_tagging(sentence):\n",
        "    \"\"\"\n",
        "    Performs Part-of-Speech tagging using SpaCy on the given sentence.\n",
        "\n",
        "    Args:\n",
        "        sentence (str): The input sentence to tag.\n",
        "\n",
        "    Returns:\n",
        "        None\n",
        "    \"\"\"\n",
        "\n",
        "    nlp = spacy.load(\"en_core_web_sm\")\n",
        "\n",
        "\n",
        "    doc = nlp(sentence)\n",
        "\n",
        "\n",
        "    print(f\"{'Token':<15}{'POS':<10}{'Tag':<10}\")\n",
        "    print(\"-\" * 35)\n",
        "    for token in doc:\n",
        "        print(f\"{token.text:<15}{token.pos_:<10}{token.tag_:<10}\")\n",
        "\n",
        "\n",
        "input_sentence = \"NLP is amazing and fun to learn.\"\n",
        "pos_tagging(input_sentence)\n"
      ]
    },
    {
      "cell_type": "code",
      "source": [],
      "metadata": {
        "id": "NVHP3T473YP3"
      },
      "execution_count": null,
      "outputs": []
    }
  ]
}