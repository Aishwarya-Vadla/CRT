{
  "nbformat": 4,
  "nbformat_minor": 0,
  "metadata": {
    "colab": {
      "provenance": [],
      "authorship_tag": "ABX9TyM/+HDFPpoIbCi9sTE9GDA1",
      "include_colab_link": true
    },
    "kernelspec": {
      "name": "python3",
      "display_name": "Python 3"
    },
    "language_info": {
      "name": "python"
    }
  },
  "cells": [
    {
      "cell_type": "markdown",
      "metadata": {
        "id": "view-in-github",
        "colab_type": "text"
      },
      "source": [
        "<a href=\"https://colab.research.google.com/github/Aishwarya-Vadla/CRT/blob/main/feb12.ipynb\" target=\"_parent\"><img src=\"https://colab.research.google.com/assets/colab-badge.svg\" alt=\"Open In Colab\"/></a>"
      ]
    },
    {
      "cell_type": "code",
      "execution_count": 1,
      "metadata": {
        "id": "8SsGXIQ35WKy"
      },
      "outputs": [],
      "source": [
        "import nltk\n",
        "import string\n",
        "import numpy as np\n",
        "from sklearn.feature_extraction.text import TfidfVectorizer\n",
        "from sklearn.metrics.pairwise import cosine_similarity\n",
        "from nltk.corpus import stopwords\n",
        "from nltk.tokenize import word_tokenize\n",
        "from nltk.stem import WordNetLemmatizer"
      ]
    },
    {
      "cell_type": "code",
      "source": [
        "nltk.download('punkt')\n",
        "nltk.download('punkt_tab')\n",
        "nltk.download('stopwords')\n",
        "nltk.download('wordnet')"
      ],
      "metadata": {
        "colab": {
          "base_uri": "https://localhost:8080/"
        },
        "id": "-9TLqrgt6BRC",
        "outputId": "8efeb05a-19b6-4f19-a4ce-446986ac1e3d"
      },
      "execution_count": 2,
      "outputs": [
        {
          "output_type": "stream",
          "name": "stderr",
          "text": [
            "[nltk_data] Downloading package punkt to /root/nltk_data...\n",
            "[nltk_data]   Unzipping tokenizers/punkt.zip.\n",
            "[nltk_data] Downloading package punkt_tab to /root/nltk_data...\n",
            "[nltk_data]   Unzipping tokenizers/punkt_tab.zip.\n",
            "[nltk_data] Downloading package stopwords to /root/nltk_data...\n",
            "[nltk_data]   Unzipping corpora/stopwords.zip.\n",
            "[nltk_data] Downloading package wordnet to /root/nltk_data...\n"
          ]
        },
        {
          "output_type": "execute_result",
          "data": {
            "text/plain": [
              "True"
            ]
          },
          "metadata": {},
          "execution_count": 2
        }
      ]
    },
    {
      "cell_type": "code",
      "source": [
        "review1=\"The movie was so fantastic! the acting and plot by hero was so good\"\n",
        "review2=\"movie was so boring. I hated the acting and plot\""
      ],
      "metadata": {
        "id": "RpifKePk8cMA"
      },
      "execution_count": 3,
      "outputs": []
    },
    {
      "cell_type": "code",
      "source": [
        "def preprocess_text(text):\n",
        "    tokenize=word_tokenize(text)\n",
        "    tokenize=[word.lower() for word in tokenize]\n",
        "    stop_words=set(stopwords.words('english'))\n",
        "    tokenize=[word for word in tokenize if word not in stop_words]\n",
        "    lemmetizer=WordNetLemmatizer()\n",
        "    tokenize=[lemmetizer.lemmatize(word) for word in tokenize]\n",
        "    return ' '.join(tokenize)"
      ],
      "metadata": {
        "id": "NdQPb8pz7MEY"
      },
      "execution_count": 5,
      "outputs": []
    },
    {
      "cell_type": "code",
      "source": [
        "a=preprocess_text(review1)\n",
        "b=preprocess_text(review2)\n",
        "print(a)\n",
        "print(b)"
      ],
      "metadata": {
        "colab": {
          "base_uri": "https://localhost:8080/"
        },
        "id": "MJdIxv4h-ZS2",
        "outputId": "1629395f-44fd-4840-dedf-190a499a46ed"
      },
      "execution_count": 6,
      "outputs": [
        {
          "output_type": "stream",
          "name": "stdout",
          "text": [
            "movie fantastic ! acting plot hero good\n",
            "movie boring . hated acting plot\n"
          ]
        }
      ]
    },
    {
      "cell_type": "code",
      "source": [
        "vectorizer=TfidfVectorizer()\n",
        "vectors=vectorizer.fit_transform([a,b])\n",
        "print(vectors.toarray())"
      ],
      "metadata": {
        "colab": {
          "base_uri": "https://localhost:8080/"
        },
        "id": "tFmpT1UP-okl",
        "outputId": "0b66e223-8d19-40c2-8f3d-c06e409b1e4a"
      },
      "execution_count": 8,
      "outputs": [
        {
          "output_type": "stream",
          "name": "stdout",
          "text": [
            "[[0.33471228 0.         0.47042643 0.47042643 0.         0.47042643\n",
            "  0.33471228 0.33471228]\n",
            " [0.37930349 0.53309782 0.         0.         0.53309782 0.\n",
            "  0.37930349 0.37930349]]\n"
          ]
        }
      ]
    },
    {
      "cell_type": "code",
      "source": [
        "cosin_sim=cosine_similarity(vectors[0],vectors[1])[0][0]\n",
        "print(round(cosin_sim,3))"
      ],
      "metadata": {
        "colab": {
          "base_uri": "https://localhost:8080/"
        },
        "id": "t41K8YDg_Azr",
        "outputId": "efee4a19-eaa6-4125-9cdb-86f354bfa9e5"
      },
      "execution_count": 9,
      "outputs": [
        {
          "output_type": "stream",
          "name": "stdout",
          "text": [
            "0.381\n"
          ]
        }
      ]
    },
    {
      "cell_type": "code",
      "source": [],
      "metadata": {
        "id": "ZJxDizdqA8Fi"
      },
      "execution_count": null,
      "outputs": []
    }
  ]
}