{
 "cells": [
  {
   "cell_type": "code",
   "execution_count": 10,
   "metadata": {},
   "outputs": [],
   "source": [
    "#Write a python programto calculate the frequency of each word in a given text. Prnt the words and their corresponding counts"
   ]
  },
  {
   "cell_type": "code",
   "execution_count": 14,
   "metadata": {},
   "outputs": [
    {
     "name": "stdout",
     "output_type": "stream",
     "text": [
      "\n",
      "Word Frequencies:\n",
      "the: 8\n",
      "quick: 1\n",
      "brown: 1\n",
      "fox: 3\n",
      "jumps: 1\n",
      "over: 1\n",
      "lazy: 1\n",
      "dog.: 1\n",
      "dog: 1\n",
      "barked: 1\n",
      "back: 1\n",
      "at: 1\n",
      "fox,: 1\n",
      "but: 1\n",
      "was: 1\n",
      "too: 2\n",
      "quick.: 1\n",
      "in: 1\n",
      "forest: 1\n",
      "nearby,: 1\n",
      "another: 1\n",
      "watched: 1\n",
      "scene: 1\n",
      "unfold.: 1\n",
      "it: 2\n",
      "wondered: 1\n",
      "if: 1\n",
      "could: 1\n",
      "jump: 1\n",
      "as: 2\n",
      "high: 1\n",
      "first: 1\n",
      "fox.: 1\n"
     ]
    }
   ],
   "source": [
    "text = input(\"Enter the text: \")\n",
    "\n",
    "words = text.split()\n",
    "\n",
    "word_freq = {}\n",
    "\n",
    "for word in words:\n",
    "    word = word.lower()\n",
    "    if word in word_freq.keys():\n",
    "        word_freq[word]+=1 \n",
    "    else:\n",
    "        word_freq[word]=1\n",
    "\n",
    "print(\"\\nWord Frequencies:\")\n",
    "for word, count in word_freq.items():\n",
    "    print(f\"{word}: {count}\")\n"
   ]
  },
  {
   "cell_type": "code",
   "execution_count": null,
   "metadata": {},
   "outputs": [],
   "source": []
  }
 ],
 "metadata": {
  "kernelspec": {
   "display_name": "Python 3",
   "language": "python",
   "name": "python3"
  },
  "language_info": {
   "codemirror_mode": {
    "name": "ipython",
    "version": 3
   },
   "file_extension": ".py",
   "mimetype": "text/x-python",
   "name": "python",
   "nbconvert_exporter": "python",
   "pygments_lexer": "ipython3",
   "version": "3.13.1"
  }
 },
 "nbformat": 4,
 "nbformat_minor": 2
}
